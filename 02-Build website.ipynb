{
 "cells": [
  {
   "cell_type": "markdown",
   "id": "4f7a00a0",
   "metadata": {},
   "source": [
    "# Building a custom webpage from our data\n",
    "\n",
    "We're going to use [Altair](https://altair-viz.github.io/) to do this."
   ]
  },
  {
   "cell_type": "code",
   "execution_count": 1,
   "id": "8e47469d",
   "metadata": {},
   "outputs": [],
   "source": [
    "#!pip install altair"
   ]
  },
  {
   "cell_type": "code",
   "execution_count": 5,
   "id": "d4637a02",
   "metadata": {},
   "outputs": [
    {
     "data": {
      "text/html": [
       "<div>\n",
       "<style scoped>\n",
       "    .dataframe tbody tr th:only-of-type {\n",
       "        vertical-align: middle;\n",
       "    }\n",
       "\n",
       "    .dataframe tbody tr th {\n",
       "        vertical-align: top;\n",
       "    }\n",
       "\n",
       "    .dataframe thead th {\n",
       "        text-align: right;\n",
       "    }\n",
       "</style>\n",
       "<table border=\"1\" class=\"dataframe\">\n",
       "  <thead>\n",
       "    <tr style=\"text-align: right;\">\n",
       "      <th></th>\n",
       "      <th>ticker</th>\n",
       "      <th>price</th>\n",
       "      <th>timestamp</th>\n",
       "    </tr>\n",
       "  </thead>\n",
       "  <tbody>\n",
       "    <tr>\n",
       "      <th>0</th>\n",
       "      <td>NVDA</td>\n",
       "      <td>446.8</td>\n",
       "      <td>2023-08-05 13:41:45</td>\n",
       "    </tr>\n",
       "    <tr>\n",
       "      <th>1</th>\n",
       "      <td>NVDA</td>\n",
       "      <td>446.8</td>\n",
       "      <td>2023-08-05 13:36:05</td>\n",
       "    </tr>\n",
       "    <tr>\n",
       "      <th>2</th>\n",
       "      <td>NVDA</td>\n",
       "      <td>446.8</td>\n",
       "      <td>2023-08-05 09:24:59</td>\n",
       "    </tr>\n",
       "  </tbody>\n",
       "</table>\n",
       "</div>"
      ],
      "text/plain": [
       "  ticker  price           timestamp\n",
       "0   NVDA  446.8 2023-08-05 13:41:45\n",
       "1   NVDA  446.8 2023-08-05 13:36:05\n",
       "2   NVDA  446.8 2023-08-05 09:24:59"
      ]
     },
     "execution_count": 5,
     "metadata": {},
     "output_type": "execute_result"
    }
   ],
   "source": [
    "import pandas as pd\n",
    "\n",
    "df = pd.read_csv(\"prices.csv\", parse_dates=['timestamp'])\n",
    "df.head()"
   ]
  },
  {
   "cell_type": "code",
   "execution_count": 6,
   "id": "3ff1aa52",
   "metadata": {},
   "outputs": [
    {
     "data": {
      "text/html": [
       "\n",
       "<style>\n",
       "  #altair-viz-eafdc9851684481ea6e6f9afa889c9ae.vega-embed {\n",
       "    width: 100%;\n",
       "    display: flex;\n",
       "  }\n",
       "\n",
       "  #altair-viz-eafdc9851684481ea6e6f9afa889c9ae.vega-embed details,\n",
       "  #altair-viz-eafdc9851684481ea6e6f9afa889c9ae.vega-embed details summary {\n",
       "    position: relative;\n",
       "  }\n",
       "</style>\n",
       "<div id=\"altair-viz-eafdc9851684481ea6e6f9afa889c9ae\"></div>\n",
       "<script type=\"text/javascript\">\n",
       "  var VEGA_DEBUG = (typeof VEGA_DEBUG == \"undefined\") ? {} : VEGA_DEBUG;\n",
       "  (function(spec, embedOpt){\n",
       "    let outputDiv = document.currentScript.previousElementSibling;\n",
       "    if (outputDiv.id !== \"altair-viz-eafdc9851684481ea6e6f9afa889c9ae\") {\n",
       "      outputDiv = document.getElementById(\"altair-viz-eafdc9851684481ea6e6f9afa889c9ae\");\n",
       "    }\n",
       "    const paths = {\n",
       "      \"vega\": \"https://cdn.jsdelivr.net/npm/vega@5?noext\",\n",
       "      \"vega-lib\": \"https://cdn.jsdelivr.net/npm/vega-lib?noext\",\n",
       "      \"vega-lite\": \"https://cdn.jsdelivr.net/npm/vega-lite@5.8.0?noext\",\n",
       "      \"vega-embed\": \"https://cdn.jsdelivr.net/npm/vega-embed@6?noext\",\n",
       "    };\n",
       "\n",
       "    function maybeLoadScript(lib, version) {\n",
       "      var key = `${lib.replace(\"-\", \"\")}_version`;\n",
       "      return (VEGA_DEBUG[key] == version) ?\n",
       "        Promise.resolve(paths[lib]) :\n",
       "        new Promise(function(resolve, reject) {\n",
       "          var s = document.createElement('script');\n",
       "          document.getElementsByTagName(\"head\")[0].appendChild(s);\n",
       "          s.async = true;\n",
       "          s.onload = () => {\n",
       "            VEGA_DEBUG[key] = version;\n",
       "            return resolve(paths[lib]);\n",
       "          };\n",
       "          s.onerror = () => reject(`Error loading script: ${paths[lib]}`);\n",
       "          s.src = paths[lib];\n",
       "        });\n",
       "    }\n",
       "\n",
       "    function showError(err) {\n",
       "      outputDiv.innerHTML = `<div class=\"error\" style=\"color:red;\">${err}</div>`;\n",
       "      throw err;\n",
       "    }\n",
       "\n",
       "    function displayChart(vegaEmbed) {\n",
       "      vegaEmbed(outputDiv, spec, embedOpt)\n",
       "        .catch(err => showError(`Javascript Error: ${err.message}<br>This usually means there's a typo in your chart specification. See the javascript console for the full traceback.`));\n",
       "    }\n",
       "\n",
       "    if(typeof define === \"function\" && define.amd) {\n",
       "      requirejs.config({paths});\n",
       "      require([\"vega-embed\"], displayChart, err => showError(`Error loading script: ${err.message}`));\n",
       "    } else {\n",
       "      maybeLoadScript(\"vega\", \"5\")\n",
       "        .then(() => maybeLoadScript(\"vega-lite\", \"5.8.0\"))\n",
       "        .then(() => maybeLoadScript(\"vega-embed\", \"6\"))\n",
       "        .catch(showError)\n",
       "        .then(() => displayChart(vegaEmbed));\n",
       "    }\n",
       "  })({\"config\": {\"view\": {\"continuousWidth\": 300, \"continuousHeight\": 300}}, \"data\": {\"name\": \"data-909f3422cfd3c447c1c858c71c4ed31b\"}, \"mark\": {\"type\": \"line\"}, \"encoding\": {\"x\": {\"field\": \"timestamp\", \"type\": \"temporal\"}, \"y\": {\"field\": \"price\", \"type\": \"quantitative\"}}, \"height\": 300, \"width\": 700, \"$schema\": \"https://vega.github.io/schema/vega-lite/v5.8.0.json\", \"datasets\": {\"data-909f3422cfd3c447c1c858c71c4ed31b\": [{\"ticker\": \"NVDA\", \"price\": 446.8, \"timestamp\": \"2023-08-05T13:41:45\"}, {\"ticker\": \"NVDA\", \"price\": 446.8, \"timestamp\": \"2023-08-05T13:36:05\"}, {\"ticker\": \"NVDA\", \"price\": 446.8, \"timestamp\": \"2023-08-05T09:24:59\"}]}}, {\"mode\": \"vega-lite\"});\n",
       "</script>"
      ],
      "text/plain": [
       "alt.Chart(...)"
      ]
     },
     "execution_count": 6,
     "metadata": {},
     "output_type": "execute_result"
    }
   ],
   "source": [
    "import altair as alt\n",
    "\n",
    "chart = alt.Chart(df).mark_line().encode(\n",
    "    x='timestamp',\n",
    "    y='price'\n",
    ").properties(width=700, height=300)\n",
    "\n",
    "chart"
   ]
  },
  {
   "cell_type": "code",
   "execution_count": 8,
   "id": "0409169e",
   "metadata": {},
   "outputs": [],
   "source": [
    "# Save the chart\n",
    "# Everything we want to be 'live' on the internet goes into docs\n",
    "chart.save('docs/output.png')"
   ]
  },
  {
   "cell_type": "markdown",
   "id": "71fb0929",
   "metadata": {},
   "source": [
    "## Getting things done that aren't charts"
   ]
  },
  {
   "cell_type": "code",
   "execution_count": 9,
   "id": "90265e07",
   "metadata": {},
   "outputs": [
    {
     "data": {
      "text/html": [
       "<div>\n",
       "<style scoped>\n",
       "    .dataframe tbody tr th:only-of-type {\n",
       "        vertical-align: middle;\n",
       "    }\n",
       "\n",
       "    .dataframe tbody tr th {\n",
       "        vertical-align: top;\n",
       "    }\n",
       "\n",
       "    .dataframe thead th {\n",
       "        text-align: right;\n",
       "    }\n",
       "</style>\n",
       "<table border=\"1\" class=\"dataframe\">\n",
       "  <thead>\n",
       "    <tr style=\"text-align: right;\">\n",
       "      <th></th>\n",
       "      <th>ticker</th>\n",
       "      <th>price</th>\n",
       "      <th>timestamp</th>\n",
       "    </tr>\n",
       "  </thead>\n",
       "  <tbody>\n",
       "    <tr>\n",
       "      <th>0</th>\n",
       "      <td>NVDA</td>\n",
       "      <td>446.8</td>\n",
       "      <td>2023-08-05 13:41:45</td>\n",
       "    </tr>\n",
       "    <tr>\n",
       "      <th>1</th>\n",
       "      <td>NVDA</td>\n",
       "      <td>446.8</td>\n",
       "      <td>2023-08-05 13:36:05</td>\n",
       "    </tr>\n",
       "    <tr>\n",
       "      <th>2</th>\n",
       "      <td>NVDA</td>\n",
       "      <td>446.8</td>\n",
       "      <td>2023-08-05 09:24:59</td>\n",
       "    </tr>\n",
       "  </tbody>\n",
       "</table>\n",
       "</div>"
      ],
      "text/plain": [
       "  ticker  price           timestamp\n",
       "0   NVDA  446.8 2023-08-05 13:41:45\n",
       "1   NVDA  446.8 2023-08-05 13:36:05\n",
       "2   NVDA  446.8 2023-08-05 09:24:59"
      ]
     },
     "execution_count": 9,
     "metadata": {},
     "output_type": "execute_result"
    }
   ],
   "source": [
    "df"
   ]
  },
  {
   "cell_type": "code",
   "execution_count": 13,
   "id": "957e2e52",
   "metadata": {},
   "outputs": [],
   "source": [
    "min_price = df.price.min()\n",
    "max_price = df.price.max()\n",
    "num_measurements = df.price.count()"
   ]
  },
  {
   "cell_type": "code",
   "execution_count": 21,
   "id": "0997d8ae",
   "metadata": {},
   "outputs": [],
   "source": [
    "dw_embed = \"\"\"\n",
    "        <iframe title=\"NVDA stock price\" aria-label=\"Interactive line chart\" id=\"datawrapper-chart-8xWIU\" src=\"https://datawrapper.dwcdn.net/8xWIU/1/\" scrolling=\"no\" frameborder=\"0\" style=\"width: 0; min-width: 100% !important; border: none;\" height=\"400\" data-external=\"1\"></iframe><script type=\"text/javascript\">!function(){\"use strict\";window.addEventListener(\"message\",(function(a){if(void 0!==a.data[\"datawrapper-height\"]){var e=document.querySelectorAll(\"iframe\");for(var t in a.data[\"datawrapper-height\"])for(var r=0;r<e.length;r++)if(e[r].contentWindow===a.source){var i=a.data[\"datawrapper-height\"][t]+\"px\";e[r].style.height=i}}}))}();\n",
    "        </script>\n",
    "\"\"\""
   ]
  },
  {
   "cell_type": "code",
   "execution_count": 18,
   "id": "ac368c73",
   "metadata": {},
   "outputs": [
    {
     "name": "stdout",
     "output_type": "stream",
     "text": [
      "<!DOCTYPE html>\n",
      "<html lang=\"en\">\n",
      "    <head>\n",
      "        <meta name=\"viewport\" content=\"width=device-width, initial-scale=1, shrink-to-fit=no\">\n",
      "        <meta content=\"text/html; charset=UTF-8\" name=\"Content-Type\">\n",
      "        <meta charset=\"utf-8\">\n",
      "        <title>Tracker for NVDA</title>\n",
      "        <link rel=\"stylesheet\" href=\"style.css\">\n",
      "    </head>\n",
      "    <body>\n",
      "    <div class=\"container\">\n",
      "        <h1>On this page we are tracking the price of the NVDA stock</h1>\n",
      "\n",
      "        <p>We have {measurement_count} measurements of the NVIDIA stock.</p>\n",
      "        <p>The maximum price we have seen is {maximum_price}</p>\n",
      "        <p>The minimum price we have seen is {minimum_price}</p>\n",
      "        <h3>We made this chart using Datawrapper, it gets updated when the GitHub repo's CSV file is updated</h3>\n",
      "\n",
      "        {datawrapper_embed_code}\n",
      "\n",
      "        <h3>We made this chart using Altair, it is automatically updated by a Jupyter notebook</h3>\n",
      "\n",
      "        <img src=\"output.png\">\n",
      "\n",
      "    </div>\n",
      "    </body>\n",
      "</html>\n"
     ]
    }
   ],
   "source": [
    "template = open(\"docs/template.html\").read()\n",
    "print(template)"
   ]
  },
  {
   "cell_type": "code",
   "execution_count": 24,
   "id": "cf6e6f05",
   "metadata": {},
   "outputs": [
    {
     "name": "stdout",
     "output_type": "stream",
     "text": [
      "<!DOCTYPE html>\n",
      "<html lang=\"en\">\n",
      "    <head>\n",
      "        <meta name=\"viewport\" content=\"width=device-width, initial-scale=1, shrink-to-fit=no\">\n",
      "        <meta content=\"text/html; charset=UTF-8\" name=\"Content-Type\">\n",
      "        <meta charset=\"utf-8\">\n",
      "        <title>Tracker for NVDA</title>\n",
      "        <link rel=\"stylesheet\" href=\"style.css\">\n",
      "    </head>\n",
      "    <body>\n",
      "    <div class=\"container\">\n",
      "        <h1>On this page we are tracking the price of the NVDA stock</h1>\n",
      "\n",
      "        <p>We have 3 measurements of the NVIDIA stock.</p>\n",
      "        <p>The maximum price we have seen is 446.8</p>\n",
      "        <p>The minimum price we have seen is 446.8</p>\n",
      "        <h3>We made this chart using Datawrapper, it gets updated when the GitHub repo's CSV file is updated</h3>\n",
      "\n",
      "        \n",
      "        <iframe title=\"NVDA stock price\" aria-label=\"Interactive line chart\" id=\"datawrapper-chart-8xWIU\" src=\"https://datawrapper.dwcdn.net/8xWIU/1/\" scrolling=\"no\" frameborder=\"0\" style=\"width: 0; min-width: 100% !important; border: none;\" height=\"400\" data-external=\"1\"></iframe><script type=\"text/javascript\">!function(){\"use strict\";window.addEventListener(\"message\",(function(a){if(void 0!==a.data[\"datawrapper-height\"]){var e=document.querySelectorAll(\"iframe\");for(var t in a.data[\"datawrapper-height\"])for(var r=0;r<e.length;r++)if(e[r].contentWindow===a.source){var i=a.data[\"datawrapper-height\"][t]+\"px\";e[r].style.height=i}}}))}();\n",
      "        </script>\n",
      "\n",
      "\n",
      "        <h3>We made this chart using Altair, it is automatically updated by a Jupyter notebook</h3>\n",
      "\n",
      "        <img src=\"output.png\">\n",
      "\n",
      "    </div>\n",
      "    </body>\n",
      "</html>\n"
     ]
    }
   ],
   "source": [
    "html = template.format(\n",
    "    measurement_count=num_measurements,\n",
    "    maximum_price=max_price,\n",
    "    minimum_price=min_price,\n",
    "    datawrapper_embed_code=dw_embed\n",
    ")\n",
    "\n",
    "print(html)"
   ]
  },
  {
   "cell_type": "code",
   "execution_count": 25,
   "id": "a8e303b8",
   "metadata": {},
   "outputs": [],
   "source": [
    "with open(\"docs/index.html\", \"w\") as f:\n",
    "    f.write(html)"
   ]
  },
  {
   "cell_type": "code",
   "execution_count": null,
   "id": "100c6928",
   "metadata": {},
   "outputs": [],
   "source": []
  }
 ],
 "metadata": {
  "kernelspec": {
   "display_name": "Python 3 (ipykernel)",
   "language": "python",
   "name": "python3"
  },
  "language_info": {
   "codemirror_mode": {
    "name": "ipython",
    "version": 3
   },
   "file_extension": ".py",
   "mimetype": "text/x-python",
   "name": "python",
   "nbconvert_exporter": "python",
   "pygments_lexer": "ipython3",
   "version": "3.10.3"
  }
 },
 "nbformat": 4,
 "nbformat_minor": 5
}
